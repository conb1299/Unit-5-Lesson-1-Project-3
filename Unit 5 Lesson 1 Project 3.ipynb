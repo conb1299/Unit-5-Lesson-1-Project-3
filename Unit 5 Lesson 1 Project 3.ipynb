{
 "cells": [
  {
   "cell_type": "code",
   "execution_count": 41,
   "metadata": {},
   "outputs": [],
   "source": [
    "class Node(object): \n",
    "    def __init__(self, value,left=None , right=None): \n",
    "        self.value = value     \n",
    "        self.left = left     \n",
    "        self.right = right"
   ]
  },
  {
   "cell_type": "code",
   "execution_count": 42,
   "metadata": {},
   "outputs": [],
   "source": [
    "t = Node(1, Node(2, Node(4,Node(8),Node(9)) Node(5,Node(10),Node (11))),  Node(3, Node(6,Node(12),Node(13)) Node(7,Node(14),Node (15))))"
   ]
  },
  {
   "cell_type": "code",
   "execution_count": 43,
   "metadata": {},
   "outputs": [],
   "source": [
    "def traverse(rootnode):   \n",
    "    thislevel = [rootnode]   \n",
    "    while thislevel: \n",
    "        nextlevel = list()     \n",
    "        for n in thislevel:       \n",
    "            print (n.value)       \n",
    "            if n.left: nextlevel.append(n.left)       \n",
    "            if n.right: nextlevel.append(n.right)     \n",
    "        print     \n",
    "        thislevel = nextlevel\n",
    "    "
   ]
  },
  {
   "cell_type": "code",
   "execution_count": 44,
   "metadata": {},
   "outputs": [
    {
     "name": "stdout",
     "output_type": "stream",
     "text": [
      "1\n",
      "2\n",
      "3\n",
      "4\n",
      "5\n",
      "6\n",
      "7\n",
      "8\n",
      "9\n"
     ]
    }
   ],
   "source": [
    "traverse(t)"
   ]
  },
  {
   "cell_type": "code",
   "execution_count": null,
   "metadata": {},
   "outputs": [],
   "source": []
  },
  {
   "cell_type": "code",
   "execution_count": null,
   "metadata": {
    "collapsed": true
   },
   "outputs": [],
   "source": []
  }
 ],
 "metadata": {
  "kernelspec": {
   "display_name": "Python 3",
   "language": "python",
   "name": "python3"
  },
  "language_info": {
   "codemirror_mode": {
    "name": "ipython",
    "version": 3
   },
   "file_extension": ".py",
   "mimetype": "text/x-python",
   "name": "python",
   "nbconvert_exporter": "python",
   "pygments_lexer": "ipython3",
   "version": "3.6.1"
  }
 },
 "nbformat": 4,
 "nbformat_minor": 2
}
